{
 "cells": [
  {
   "cell_type": "code",
   "execution_count": 3,
   "metadata": {
    "collapsed": false
   },
   "outputs": [
    {
     "name": "stdout",
     "output_type": "stream",
     "text": [
      "Packet arrival times:\n",
      "0.027746688547674377\n",
      "0.030562778876902497\n",
      "0.14245831711503792\n",
      "0.1794922084770854\n",
      "0.21365038211202703\n",
      "0.27794300162905183\n",
      "0.2940986103394617\n",
      "0.29992371204047463\n",
      "0.3633449177451481\n",
      "0.4318155397999611\n"
     ]
    }
   ],
   "source": [
    "import numpy as np\n",
    "\n",
    "# Define parameters\n",
    "mean_interarrival_time = 0.1  # Mean inter-arrival time in seconds\n",
    "\n",
    "# Simulate arrival times using exponential distribution\n",
    "interarrival_times = np.random.exponential(mean_interarrival_time, size=1000)\n",
    "\n",
    "# Initialize time and packets list\n",
    "time = 0\n",
    "packets = []\n",
    "\n",
    "# Generate packet arrival times\n",
    "for interarrival_time in interarrival_times:\n",
    "    time += interarrival_time\n",
    "    packets.append(time)\n",
    "\n",
    "# Print the first few packet arrival times\n",
    "print(\"Packet arrival times:\")\n",
    "for i in range(10):\n",
    "    print(packets[i])\n"
   ]
  },
  {
   "cell_type": "code",
   "execution_count": 0,
   "metadata": {
    "collapsed": false
   },
   "outputs": [
   ],
   "source": [
    "The code simulates an on/off model with an interrupted Poisson process (IPP) based on the provided parameters. Here's a summary of the key results the code produces:\n",
    "\n",
    "1. **Markov Chain Transitions**: The code simulates transitions of a two-state continuous-time Markov chain representing the active and idle states. It generates a sequence of durations for each state based on exponential distributions with the given rate parameters `alpha` and `beta`.\n",
    "\n",
    "2. **Interrupted Poisson Process (IPP)**: Using the durations of the active and idle states from the Markov chain simulation, the code then simulates an interrupted Poisson process. During each active state, packets are generated according to a Poisson process with the rate parameter `lambda_`. Packets are only generated when the state is active.\n",
    "\n",
    "3. **Packet Arrival Times**: The code prints the arrival times of packets generated during the IPP. These arrival times represent the instances when packets are produced during the active states.\n",
    "\n",
    "The exact arrival times printed will vary with each run of the code due to the stochastic nature of the simulations. However, the times should reflect the behavior of an on/off model where packets are generated according to a Poisson process during active states and no packets are produced during idle states."
   ]
  },
  {
   "cell_type": "code",
   "execution_count": 4,
   "metadata": {
    "collapsed": false
   },
   "outputs": [
    {
     "name": "stdout",
     "output_type": "stream",
     "text": [
      "Packet arrival times:\n",
      "0\n",
      "41.499438098625575\n",
      "44.14809472795274\n",
      "49.006967934698594\n",
      "50.006967934698594\n",
      "89.4310326629193\n",
      "92.76005413158597\n",
      "97.27963682758322\n",
      "98.27963682758322\n",
      "102.12239314343117\n"
     ]
    }
   ],
   "source": [
    "import numpy as np\n",
    "\n",
    "# Parameters\n",
    "alpha = 0.1  # Rate parameter for active state (mean = 1/alpha)\n",
    "beta = 0.05  # Rate parameter for idle state (mean = 1/beta)\n",
    "T = 1.0      # Inter-arrival time during active state\n",
    "lambda_ = 0.2  # Packet generation rate during active state\n",
    "\n",
    "# Simulate Markov chain\n",
    "def simulate_markov_chain(num_transitions):\n",
    "    state = 0  # Start in idle state (state 0)\n",
    "    times = []\n",
    "    for _ in range(num_transitions):\n",
    "        if state == 0:\n",
    "            duration = np.random.exponential(1/beta)\n",
    "            state = 1\n",
    "        else:\n",
    "            duration = T\n",
    "            state = 0\n",
    "        times.append(duration)\n",
    "    return times\n",
    "\n",
    "# Simulate interrupted Poisson process\n",
    "def simulate_ipp(num_packets, markov_times):\n",
    "    packets = []\n",
    "    current_time = 0\n",
    "    for duration in markov_times:\n",
    "        if np.random.rand() < lambda_ * duration:\n",
    "            packets.append(current_time)\n",
    "        current_time += duration\n",
    "    return packets\n",
    "\n",
    "# Simulate Markov chain transitions\n",
    "markov_times = simulate_markov_chain(1000)\n",
    "\n",
    "# Simulate interrupted Poisson process\n",
    "packets = simulate_ipp(1000, markov_times)\n",
    "\n",
    "# Print first few packet arrival times\n",
    "print(\"Packet arrival times:\")\n",
    "for i in range(10):\n",
    "    print(packets[i])"
   ]
  }
 ],
 "metadata": {
  "kernelspec": {
   "argv": [
    "/usr/bin/python3",
    "-m",
    "ipykernel",
    "--HistoryManager.enabled=False",
    "--matplotlib=inline",
    "-c",
    "%config InlineBackend.figure_formats = set(['retina'])\nimport matplotlib; matplotlib.rcParams['figure.figsize'] = (12, 7)",
    "-f",
    "{connection_file}"
   ],
   "display_name": "Python 3 (system-wide)",
   "env": {
   },
   "language": "python",
   "metadata": {
    "cocalc": {
     "description": "Python 3 programming language",
     "priority": 100,
     "url": "https://www.python.org/"
    }
   },
   "name": "python3",
   "resource_dir": "/ext/jupyter/kernels/python3"
  },
  "language_info": {
   "codemirror_mode": {
    "name": "ipython",
    "version": 3
   },
   "file_extension": ".py",
   "mimetype": "text/x-python",
   "name": "python",
   "nbconvert_exporter": "python",
   "pygments_lexer": "ipython3",
   "version": "3.10.12"
  }
 },
 "nbformat": 4,
 "nbformat_minor": 4
}