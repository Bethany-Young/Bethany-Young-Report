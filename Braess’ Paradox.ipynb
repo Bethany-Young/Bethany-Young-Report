{
 "cells": [
  {
   "cell_type": "code",
   "execution_count": 36,
   "metadata": {
    "collapsed": false
   },
   "outputs": [
    {
     "name": "stdout",
     "output_type": "stream",
     "text": [
      "Original Route Performance: 1000 users\n",
      "New Route Performance: 1000 users\n"
     ]
    }
   ],
   "source": [
    "import random\n",
    "\n",
    "def simulate_network(users, probability_switch):\n",
    "    isp_a_users = users // 2\n",
    "    isp_b_users = users - isp_a_users\n",
    "\n",
    "    # Simulate users' decisions to switch ISPs based on a given probability\n",
    "    switched_users = sum([1 for _ in range(isp_a_users) if random.random() < probability_switch])\n",
    "\n",
    "    # Calculate performance for each route\n",
    "    performance_route_original = isp_a_users + isp_b_users\n",
    "    performance_route_new = switched_users + (isp_b_users - switched_users) + isp_a_users\n",
    "\n",
    "    return performance_route_original, performance_route_new\n",
    "\n",
    "def main():\n",
    "    total_users = 1000  # Adjust the total number of users as needed\n",
    "    probability_switch = 50 # Adjust the probability of users switching ISPs\n",
    "\n",
    "    original_performance, new_performance = simulate_network(total_users, probability_switch)\n",
    "\n",
    "    print(f\"Original Route Performance: {original_performance} users\")\n",
    "    print(f\"New Route Performance: {new_performance} users\")\n",
    "\n",
    "if __name__ == \"__main__\":\n",
    "    main()\n"
   ]
  },
  {
   "cell_type": "code",
   "execution_count": 4,
   "metadata": {
    "collapsed": false
   },
   "outputs": [
    {
     "name": "stdout",
     "output_type": "stream",
     "text": [
      "Original Route Performance: 1000 users\n",
      "New Route Performance: 500 users\n"
     ]
    }
   ],
   "source": [
    "import random\n",
    "\n",
    "def simulate_network(users, probability_switch):\n",
    "    isp_a_users = users // 2\n",
    "    isp_b_users = users - isp_a_users\n",
    "\n",
    "    # Simulate users' decisions to switch ISPs based on a given probability\n",
    "    switched_users = sum([1 for _ in range(isp_a_users) if random.random() < probability_switch])\n",
    "\n",
    "    # Calculate performance for each route\n",
    "    performance_route_original = isp_a_users + isp_b_users\n",
    "    performance_route_new = switched_users + (isp_b_users - switched_users)\n",
    "\n",
    "    return performance_route_original, performance_route_new\n",
    "\n",
    "def main():\n",
    "    total_users = 1000  # Adjust the total number of users as needed\n",
    "    probability_switch = 0.5  # Adjust the probability of users switching ISPs\n",
    "\n",
    "    original_performance, new_performance = simulate_network(total_users, probability_switch)\n",
    "\n",
    "    print(f\"Original Route Performance: {original_performance} users\")\n",
    "    print(f\"New Route Performance: {new_performance} users\")\n",
    "\n",
    "if __name__ == \"__main__\":\n",
    "    main()\n",
    "\n",
    "   "
   ]
  },
  {
   "cell_type": "code",
   "execution_count": 0,
   "metadata": {
    "collapsed": false
   },
   "outputs": [
   ],
   "source": [
   ]
  }
 ],
 "metadata": {
  "kernelspec": {
   "argv": [
    "/usr/bin/python3",
    "-m",
    "ipykernel",
    "--HistoryManager.enabled=False",
    "--matplotlib=inline",
    "-c",
    "%config InlineBackend.figure_formats = set(['retina'])\nimport matplotlib; matplotlib.rcParams['figure.figsize'] = (12, 7)",
    "-f",
    "{connection_file}"
   ],
   "display_name": "Python 3 (system-wide)",
   "env": {
   },
   "language": "python",
   "metadata": {
    "cocalc": {
     "description": "Python 3 programming language",
     "priority": 100,
     "url": "https://www.python.org/"
    }
   },
   "name": "python3",
   "resource_dir": "/ext/jupyter/kernels/python3"
  },
  "language_info": {
   "codemirror_mode": {
    "name": "ipython",
    "version": 3
   },
   "file_extension": ".py",
   "mimetype": "text/x-python",
   "name": "python",
   "nbconvert_exporter": "python",
   "pygments_lexer": "ipython3",
   "version": "3.10.12"
  }
 },
 "nbformat": 4,
 "nbformat_minor": 4
}