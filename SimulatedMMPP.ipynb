{
 "cells": [
  {
   "cell_type": "code",
   "execution_count": 5,
   "metadata": {
    "collapsed": false
   },
   "outputs": [
    {
     "name": "stdout",
     "output_type": "stream",
     "text": [
      "Packet arrival times:\n",
      "0.008626285934549144\n",
      "0.004985295075279871\n",
      "0.0009427163543875665\n",
      "0.006170398736504373\n",
      "0.0009625529971582326\n",
      "0.0030097564014056363\n",
      "0.0049257199064381705\n",
      "0.0006513792767540548\n",
      "0.0007537281624386118\n",
      "0.0004915494560637527\n"
     ]
    }
   ],
   "source": [
    "import numpy as np\n",
    "\n",
    "# Parameters\n",
    "lambda_ = 0.2  # Base arrival rate for each speech conversation\n",
    "num_conversations = 5  # Number of speech conversations\n",
    "transition_matrix = np.array([[0.1, 0.3, 0.3, 0.2, 0.1],   # Example transition matrix\n",
    "                              [0.2, 0.1, 0.2, 0.2, 0.3],\n",
    "                              [0.3, 0.2, 0.1, 0.3, 0.1],\n",
    "                              [0.1, 0.3, 0.1, 0.2, 0.3],\n",
    "                              [0.3, 0.1, 0.3, 0.2, 0.1]])\n",
    "\n",
    "# Simulate Markov chain transitions\n",
    "def simulate_markov_chain(num_transitions, initial_state=0):\n",
    "    state = initial_state\n",
    "    states = [state]\n",
    "    transition_times = []\n",
    "    for _ in range(num_transitions):\n",
    "        state = np.random.choice(range(num_conversations), p=transition_matrix[state])\n",
    "        states.append(state)\n",
    "        transition_times.append(transition_matrix[state].tolist())\n",
    "    return states, transition_times\n",
    "\n",
    "# Simulate MMPP\n",
    "def simulate_mmpp(num_packets, transition_times):\n",
    "    packets = []\n",
    "    current_time = 0\n",
    "    for transition_time in transition_times:\n",
    "        arrival_rate = np.sum(transition_time)\n",
    "        num_arrivals = np.random.poisson(arrival_rate * lambda_)\n",
    "        arrival_times = current_time + np.random.exponential(1 / (lambda_ * arrival_rate), num_arrivals)\n",
    "        packets.extend(arrival_times)\n",
    "        current_time += transition_time[-1]\n",
    "    return packets\n",
    "\n",
    "# Simulate Markov chain transitions\n",
    "transition_times = simulate_markov_chain(1000)\n",
    "\n",
    "# Simulate MMPP\n",
    "packets = simulate_mmpp(1000, transition_times)\n",
    "\n",
    "# Print first few packet arrival times\n",
    "print(\"Packet arrival times:\")\n",
    "for i in range(10):\n",
    "    print(packets[i])"
   ]
  }
 ],
 "metadata": {
  "kernelspec": {
   "argv": [
    "/usr/bin/python3",
    "-m",
    "ipykernel",
    "--HistoryManager.enabled=False",
    "--matplotlib=inline",
    "-c",
    "%config InlineBackend.figure_formats = set(['retina'])\nimport matplotlib; matplotlib.rcParams['figure.figsize'] = (12, 7)",
    "-f",
    "{connection_file}"
   ],
   "display_name": "Python 3 (system-wide)",
   "env": {
   },
   "language": "python",
   "metadata": {
    "cocalc": {
     "description": "Python 3 programming language",
     "priority": 100,
     "url": "https://www.python.org/"
    }
   },
   "name": "python3",
   "resource_dir": "/ext/jupyter/kernels/python3"
  },
  "language_info": {
   "codemirror_mode": {
    "name": "ipython",
    "version": 3
   },
   "file_extension": ".py",
   "mimetype": "text/x-python",
   "name": "python",
   "nbconvert_exporter": "python",
   "pygments_lexer": "ipython3",
   "version": "3.10.12"
  }
 },
 "nbformat": 4,
 "nbformat_minor": 4
}